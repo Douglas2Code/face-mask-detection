{
 "cells": [
  {
   "cell_type": "markdown",
   "metadata": {},
   "source": [
    "# Get Samples From VGG"
   ]
  },
  {
   "cell_type": "code",
   "execution_count": 13,
   "metadata": {},
   "outputs": [],
   "source": [
    "from pathlib import Path\n",
    "import os\n",
    "import random\n",
    "import glob\n",
    "from shutil import copyfile\n",
    "\n",
    "# Set seed to sample same set of images each time\n",
    "random.seed(61)\n",
    "\n",
    "# Sample 5 images per indentity (person)\n",
    "N_IMAGES_PER_IDENTITY = 10\n",
    "ROOT_DIR = os.path.dirname(os.path.abspath(os.curdir))"
   ]
  },
  {
   "cell_type": "code",
   "execution_count": 16,
   "metadata": {},
   "outputs": [],
   "source": [
    "# Use test set data of VGG Face dataset because we only need to extract ~2000 images.\n",
    "p = Path(ROOT_DIR) / 'data' / 'vggface2_testset'\n",
    "\n",
    "# Find identity directories in test folder\n",
    "identity_dirs = [x for x in p.iterdir() if x.is_dir()]\n",
    "\n",
    "# Create a directory to save sampled images\n",
    "sampled_image_dir = os.path.join(ROOT_DIR, 'data', 'sampled_face_images')\n",
    "os.makedirs(sampled_image_dir, exist_ok=True)\n",
    "\n",
    "# Get N_IMAGES_PER_IDENTITY sample images from each identity and save it to sample_faces directory\n",
    "for identity_dir in identity_dirs:\n",
    "    indentity_face_images = glob.glob(os.path.join(identity_dir, \"*.jpg\"))\n",
    "    sampled_image_dirs = random.sample(indentity_face_images, N_IMAGES_PER_IDENTITY)\n",
    "    identity_name = os.path.basename(identity_dir)\n",
    "    for src_dir in sampled_image_dirs:\n",
    "        face_image_fname = os.path.basename(src_dir)\n",
    "        dst_dir = os.path.join(sampled_image_dir, identity_name + '_' + face_image_fname)\n",
    "        copyfile(src_dir, dst_dir)"
   ]
  }
 ],
 "metadata": {
  "kernelspec": {
   "display_name": "model-zoo",
   "language": "python",
   "name": "model-zoo"
  },
  "language_info": {
   "codemirror_mode": {
    "name": "ipython",
    "version": 3
   },
   "file_extension": ".py",
   "mimetype": "text/x-python",
   "name": "python",
   "nbconvert_exporter": "python",
   "pygments_lexer": "ipython3",
   "version": "3.7.6"
  }
 },
 "nbformat": 4,
 "nbformat_minor": 4
}
