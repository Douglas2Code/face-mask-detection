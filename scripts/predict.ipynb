{
 "cells": [
  {
   "cell_type": "code",
   "execution_count": 65,
   "metadata": {},
   "outputs": [],
   "source": [
    "import os, sys\n",
    "sub_module_dir = os.path.abspath(os.path.join('retinaface-tf2'))\n",
    "if sub_module_dir not in sys.path: # add retinaface-tf2 repo to PATH\n",
    "    sys.path.append(sub_module_dir)\n",
    "\n",
    "from pathlib import Path\n",
    "import time\n",
    "import base64\n",
    "\n",
    "import matplotlib.pyplot as plt\n",
    "from modules.models import RetinaFaceModel\n",
    "from modules.utils import pad_input_image, recover_pad_output, load_yaml\n",
    "import tensorflow as tf\n",
    "import numpy as np\n",
    "import matplotlib.pyplot as plt\n",
    "from PIL import Image, ImageDraw, ImageFont\n",
    "from io import BytesIO\n",
    "import cv2\n",
    "\n",
    "# Disable TF warnings\n",
    "tf.get_logger().setLevel('ERROR')\n",
    "\n",
    "BASEWIDTH = 850"
   ]
  },
  {
   "cell_type": "markdown",
   "metadata": {},
   "source": [
    "## Load Face Detection Model"
   ]
  },
  {
   "cell_type": "code",
   "execution_count": 66,
   "metadata": {},
   "outputs": [
    {
     "data": {
      "text/plain": [
       "<tensorflow.python.training.tracking.util.CheckpointLoadStatus at 0x160d28950>"
      ]
     },
     "execution_count": 66,
     "metadata": {},
     "output_type": "execute_result"
    }
   ],
   "source": [
    "retina_face_dir = Path('retinaface-tf2')\n",
    "retinaface_cfg_path = retina_face_dir / 'configs' / 'retinaface_mbv2.yaml'\n",
    "\n",
    "retinaface_cfg = load_yaml(retinaface_cfg_path)\n",
    "\n",
    "# define network\n",
    "model = RetinaFaceModel(retinaface_cfg, training=False, iou_th=0.4, score_th=0.5)\n",
    "\n",
    "# load checkpoint\n",
    "checkpoint_dir = os.path.join('retinaface-tf2', retinaface_cfg['sub_name'])\n",
    "checkpoint = tf.train.Checkpoint(model=model)\n",
    "checkpoint.restore(tf.train.latest_checkpoint(checkpoint_dir))"
   ]
  },
  {
   "cell_type": "markdown",
   "metadata": {},
   "source": [
    "## Load Mask Classification Model"
   ]
  },
  {
   "cell_type": "code",
   "execution_count": 67,
   "metadata": {},
   "outputs": [],
   "source": [
    "classifier_dir = Path('saved_models')\n",
    "classifier = tf.keras.models.load_model(classifier_dir / 'best.h5')"
   ]
  },
  {
   "cell_type": "code",
   "execution_count": 68,
   "metadata": {},
   "outputs": [],
   "source": [
    "def resize_image(img):\n",
    "    # Resize image by keeping the aspect ratio if image witdth is greater than BASEWIDTH\n",
    "    if img.size[0] > BASEWIDTH:\n",
    "        wpercent = (BASEWIDTH / float(img.size[0]))\n",
    "        hsize = int((float(img.size[1])*float(wpercent)))\n",
    "        img = img.resize((BASEWIDTH,hsize), Image.ANTIALIAS)\n",
    "    return img\n",
    "\n",
    "def detect_faces(img_raw):\n",
    "    img = np.float32(img_raw.copy())\n",
    "    img = cv2.cvtColor(img, cv2.COLOR_BGR2RGB)\n",
    "    \n",
    "    img, pad_params = pad_input_image(img, max_steps=max(retinaface_cfg['steps']))\n",
    "    detected_faces = model(img[np.newaxis, ...]).numpy()\n",
    "    return recover_pad_output(detected_faces, pad_params)\n",
    "\n",
    "def get_detected_face_coordinates(detected_faces, img_width, img_height):\n",
    "    detected_face_coordinates = []\n",
    "    for detected_face in detected_faces: \n",
    "        x1 = int(detected_face[0] * img_width)\n",
    "        y1 = int(detected_face[1] * img_height)\n",
    "        x2 = int(detected_face[2] * img_width)\n",
    "        y2 = int(detected_face[3] * img_height)\n",
    "        detected_face_coordinates.append([x1, y1, x2, y2])\n",
    "    return detected_face_coordinates"
   ]
  },
  {
   "cell_type": "code",
   "execution_count": 69,
   "metadata": {},
   "outputs": [],
   "source": [
    "def classify_faces(img_raw, face_coords):\n",
    "    classification_scores = []\n",
    "    # Iterate over detected face coordinates to find\n",
    "    for coords in face_coords:\n",
    "        x1, y1, x2, y2 = coords\n",
    "        cropped_face = img_raw.crop(coords)\n",
    "        cropped_face_np = np.float32(cropped_face)\n",
    "        img = cv2.cvtColor(cropped_face_np, cv2.COLOR_BGR2RGB)\n",
    "        img = cv2.resize(img, (112, 112)) \n",
    "        preprocessed_img = tf.keras.applications.mobilenet.preprocess_input(img)\n",
    "        preprocessed_img = preprocessed_img[np.newaxis, ...]\n",
    "        pred = classifier.predict(preprocessed_img)[0][0]\n",
    "        classification_scores.append(pred)\n",
    "    return classification_scores"
   ]
  },
  {
   "cell_type": "code",
   "execution_count": 107,
   "metadata": {},
   "outputs": [],
   "source": [
    "def annotate_image(img, face_coords, classified_face_scores, classification_labels):\n",
    "    pil_draw = ImageDraw.Draw(img)\n",
    "    for idx, coords in enumerate(face_coords):\n",
    "        x1, y1, x2, y2 = coords\n",
    "        label = classification_labels[idx]\n",
    "        color = 'green' if label == 'masked' else 'red'\n",
    "        display_str = \"{}: {:.2f}\".format(label, classified_face_scores[idx])\n",
    "\n",
    "        # Draw rectangle for detected face\n",
    "        pil_draw.rectangle([x1, y1, x2, y2], outline=color, width=3)\n",
    "        \n",
    "        # Draw label text box\n",
    "        # portion of image width you want text width to be\n",
    "        img_fraction = 0.2\n",
    "        font_size = 5  # starting font size\n",
    "        font = ImageFont.truetype(\"arial.ttf\", font_size)\n",
    "        image_size = img.size[0]\n",
    "        \n",
    "        while font.getsize(display_str)[0] < img_fraction * image_size:\n",
    "            # iterate until the text size is just larger than the criteria\n",
    "            font_size += 1\n",
    "            font = ImageFont.truetype('./arial.ttf', font_size)\n",
    "\n",
    "        # Find coordinates of bounding text box\n",
    "        w, h = font.getsize(display_str)\n",
    "        pil_draw.rectangle([x1, y1, x1 + w, y1 + h], fill=color)\n",
    "        pil_draw.text((x1, y1), display_str, font=font)\n",
    "    return img\n",
    "\n",
    "def convert_pil_to_base64(annotated_image, image_type):\n",
    "    buffered = BytesIO()\n",
    "    if image_type == 'jpg':\n",
    "        annotated_image.save(buffered, format='jpeg')\n",
    "    else:\n",
    "        annotated_image.save(buffered, format=image_type)\n",
    "    annotated_image_base64 = base64.b64encode(buffered.getvalue())\n",
    "    return annotated_image_base64.decode('utf-8')"
   ]
  },
  {
   "cell_type": "code",
   "execution_count": 110,
   "metadata": {},
   "outputs": [],
   "source": [
    "#' @dploy endpoint predict\n",
    "def predict_masked_faces(body):\n",
    "    base64_image = body['image'].encode('utf-8')\n",
    "    image_type = body['type']\n",
    "    \n",
    "    # Convert image from base64 to PIL Image and resize it to improve the performance\n",
    "    img_raw = Image.open(BytesIO(base64.b64decode(base64_image)))\n",
    "    img_raw = resize_image(img_raw)\n",
    "\n",
    "    # Detect face coordinates from the raw image\n",
    "    detected_faces = detect_faces(img_raw)\n",
    "    print(detected_faces)\n",
    "    \n",
    "    # Get detected face coordinates\n",
    "    img_width, img_height  = img_raw.size\n",
    "    _time = time.time()\n",
    "    face_coords = get_detected_face_coordinates(detected_faces, img_width, img_height)\n",
    "    print(time.time() - _time)\n",
    "    \n",
    "    # Classify detected faces whether they have a mask or not\n",
    "    classified_face_scores = classify_faces(img_raw, face_coords)\n",
    "    \n",
    "    # Find labels\n",
    "    classification_labels = np.where(np.array(classified_face_scores) > 0.5, 'masked', 'not masked').tolist()\n",
    "    \n",
    "    # Annotate base image with detected faces and mask classification\n",
    "    annotated_image = annotate_image(img_raw, face_coords, classified_face_scores, classification_labels)\n",
    "    \n",
    "    # Convert PIL image to base64\n",
    "    annotated_image_base_64 = convert_pil_to_base64(annotated_image, image_type)\n",
    "    \n",
    "    return {\n",
    "            'detected_face_coordinates': face_coords,\n",
    "            'detected_mask_scores': classified_face_scores,\n",
    "            'detected_face_labels': classification_labels,\n",
    "            'annotated_image': annotated_image_base_64\n",
    "           }"
   ]
  },
  {
   "cell_type": "code",
   "execution_count": 111,
   "metadata": {},
   "outputs": [
    {
     "name": "stdout",
     "output_type": "stream",
     "text": [
      "[[0.3144624  0.11384235 0.6585271  0.49146608 0.38457087 0.27786446\n",
      "  0.5370622  0.27210304 0.4487665  0.3483094  0.40593886 0.40308276\n",
      "  0.5342431  0.39720696 1.         0.9998099 ]]\n",
      "2.09808349609375e-05\n",
      "{'detected_face_coordinates': [[63, 28, 132, 123]], 'detected_mask_scores': [0.001060941], 'detected_face_labels': ['not masked'], 'annotated_image': '/9j/4AAQSkZJRgABAQAAAQABAAD/2wBDAAgGBgcGBQgHBwcJCQgKDBQNDAsLDBkSEw8UHRofHh0aHBwgJC4nICIsIxwcKDcpLDAxNDQ0Hyc5PTgyPC4zNDL/2wBDAQkJCQwLDBgNDRgyIRwhMjIyMjIyMjIyMjIyMjIyMjIyMjIyMjIyMjIyMjIyMjIyMjIyMjIyMjIyMjIyMjIyMjL/wAARCAD7AMkDASIAAhEBAxEB/8QAHwAAAQUBAQEBAQEAAAAAAAAAAAECAwQFBgcICQoL/8QAtRAAAgEDAwIEAwUFBAQAAAF9AQIDAAQRBRIhMUEGE1FhByJxFDKBkaEII0KxwRVS0fAkM2JyggkKFhcYGRolJicoKSo0NTY3ODk6Q0RFRkdISUpTVFVWV1hZWmNkZWZnaGlqc3R1dnd4eXqDhIWGh4iJipKTlJWWl5iZmqKjpKWmp6ipqrKztLW2t7i5usLDxMXGx8jJytLT1NXW19jZ2uHi4+Tl5ufo6erx8vP09fb3+Pn6/8QAHwEAAwEBAQEBAQEBAQAAAAAAAAECAwQFBgcICQoL/8QAtREAAgECBAQDBAcFBAQAAQJ3AAECAxEEBSExBhJBUQdhcRMiMoEIFEKRobHBCSMzUvAVYnLRChYkNOEl8RcYGRomJygpKjU2Nzg5OkNERUZHSElKU1RVVldYWVpjZGVmZ2hpanN0dXZ3eHl6goOEhYaHiImKkpOUlZaXmJmaoqOkpaanqKmqsrO0tba3uLm6wsPExcbHyMnK0tPU1dbX2Nna4uPk5ebn6Onq8vP09fb3+Pn6/9oADAMBAAIRAxEAPwDklWlxSilxSENoxTsUUwGlaTbTjRQBGUpPLqagigCsYaTyKtbaytQ1qKy/dJ+9l/QfU/0oAtm3Sq8pt0+/Kq/7zCufm1W4uvvy7U/urwKltEieT76/ypXGkbIe3f8A5arQHheT761NFaJ5fyJ/I/yqpNFs3/7P8LLU8xXKW/s+/wCej7OlZaXD2v3H+T+72/A1qWtyk0dO9yWg8mneTU9JVCIfKppWp6awoArFaYRT5pUhjd3+4v4/kO9UWW6fe+/y2b+HbnA4x7Zxn8fXpSAsEVEwqJzcfc81d/3vuc7c+mePr/KoA1x8m+VW3Y/h4Prj/P8AjQBJIKj21Iyp/AlNxQB1CinYoFLTATFJS0UCG4oxTqKAG4p2KWs3U7yQXFpp1q3+mXcqxL/sBiAD9ef50N21KjFyaiupna5rnkyPa2j/AD/8tJPT2Hv71zO6uum+H97HbS3Et1EsccayZ+U7lY4UjDd+fyNJH8Pr+SNHSdGDgMANucYU9N2ejL+Yrn+tUu/4M9f+wsda/Iv/AAKP+ZykQ/3q29Hht3nRHTb+n8+1b0fw71CAkyrvKOEMeVwSSR2OOox16ke+JpfDFzpcPnsVhEbqRH5obO4Ng7cnj5TUyxNPv+DHDJMa3ZRX/gUf8yzJAkNp8ny/oPy6H8q5+8uH+f8Az9DkcZ/AV0c1hdyLGGlh2TIzkHPAEYkOeP7rD1qneeF7u1ulhL+fKzsgSBWY5Cq3THow/Wp+sU+5f9h469uT8Y/5nItcfvNj/wDjy/z9asWLeTPvTd5W7a3oCen8jXTxeDtRJVjol9Io/wCnV/54p13CkMf2FbB7ULy0UnLZPcggetP6zBf8M/8AIj+xMW+kf/A4f/JESHfHSmooSoXG4MP4cfyqWuinUVSN4nnYrCVcLP2dVWdk909HtqroTFMNPprVZzlaW3R5Ed/+Wf3V7Z9fw/rQ1Sk1E1IDPl06KeeWXe37zPy8dSAM/kOlQtYJ8n71vvbm6AHnPQdK0jUDUAV3pKc1NoA6gUlIKWmAtLikFKKBBRRS0AKgrglvpbnxNHdIxVvtClGU4IAYYI/Cu92743T+8pX8xXnotH0/X47WVMMs6bfoSCCPwqZ/C/RnRhf48P8AFH80bmo+KNUtbiSySctAoVQrOxGNo4xnFTaPrOvX86rAxVcbcozDjAGPveiqPwHpWDq8bza9JEn32ZQv/fIr2HwXoUWmWkW9P3v9a5YUafs4troj3MbmeNhi6tOFRpKUtNO/oS6b4W13UVWS41G5Vic5MjZz0z19z+dddZ/DS3vIvL1DWNTcNglFmGDjpwQa0ba8/wCA1v2l8lCo077f195ySzbHx2qP8P8A5E53/hVOlARhNV1nEf3B9oT5fp8nFXdM+HmmaXqdvqQ1DUriW33bEuZVdfmUg8bQe/rXSi8/ebKe0++tVRpJ3SMZ5rjpxcZVG09OnXfoVZCiV5r8SPDnnQf2vaJ86/65VXt616LO1Zeq7JtJuIn/ALtDORHzbfM/2ZX4V1fd6g9eR9eo+v4VbtpfOgSX+9976jg/rTNWh8qV0kUKEmO4c5xz09+9FiqJafJ9xv8A9X9KjDPR+rPQzlfvKf8A17h/6SWKYaU01jXUeQMNRNUrVE1ICNjUDVM5qB6AIWNNoam5pgdWKSkFLQIcKWminCgApaKWgBVrnPE1rt1nSr1V/wBZIsbfUEEfoT+VdGtZ+t/Z54YYWuIluYp4pli3jcw3AHj6MT+FTP4X6P8AI6ML/Hp/4o/+lIi0jRPO8QS6jP8Ac4WFfU7QCa9Y0oJ5aV5lp2rQW1xJBJ1BB+nArstJ8Q2/8fy1y037sb9kelmCX1yt/il+bPQbaD93U6M6f8B+7WRp+rxPs2S7kqzdXyf36u6OGxuW0nnSJvq++xI/v/yrzTVfiJaaT+6SKWW4b5VVYzz+IrFl8Zatqfz/AGS5WL8sfiTVKSIcGetyTJ9yqF/HvgdErzux1fU4ZPNiRtn8StyPzJrt9J1BNQtPN+6/8S9cf4ii6Ymmjx/W7QHxHfQlFwGyR26D86yEi8mNE/u13F5YG8+IWqQxRsx8tXAX6J/jVe68EX1tafaLu7s7aVvuwySYP0zWeH0T9WejnCcqlO3/AD7h/wCknHYpCKsTwPDO8UqbXVtrL71A1dR45GajNSE1E1MCJ6ryVYeoGFAFc0uP87qDSZoA6cUtIKSgRIKWkFLQAopaBRTActcLdZbxfOW7XCj8iAP0rulrlddsRb+ILW8UZS5kTj0YEA/0P51E/hfo/wAjown8en/ij/6UilqSj+07h26Lt7kfwj0pq2zvHby+V5Vu0m3zPmyMEAnA+vTrXWWelW98zvMisu8bge/Arv8AR9HiSBNksqp/Cu7pWFGfuR06I7czg/rlb/FL82eWWtzregSRXUrztE0azSK0pJRGxyQfTjPevefDmk/2/pX2h5f/AK+a4/xfBEmjS2+zc8mFVe5Y8KPzxXqHgiz/ALP8NxQv95cfyFUkpS2OR3jE8417wzqFlPLLFErJ91dvLHHU/wD6/asBdC8QW2pJFb2kVzFMo2yNbB0Rjj77MrZGdw+8mODz0Pvt9p1vfwfMNrfeVveubm0REn/e267/AO92NNLld7XIb5lvY4Ww0vUEu3lTT9sSttka3b91IOm5VJyv0GRXX2GlvZfvfmVJP+WbN610ltaJ5H+cfpVTUD5PyUuXqU3fRHB6VfxaX8TNaubhkTbZ4DN0DHygK6a6hsb2xfftuX3fNJ1zn3rkrK3s9Q+IetxX/wDqGs+W6YP7rBrQsB/Zmm3Tu7eV95d3Hyrkk/pWNCTs10uz2sxSU6b/AOncP/STgvEsPk6s6J/zzX+WP6ViNV3Ur19Qvpbh/wCL7q+gHAH5VSJrsWiPnpO7bIzUJqZqiNMRE1QPU0gqB6QEJpKUikxQB0wpRSCimIeKdTRSigBwpabSigB1VtTsxf20eDiSCZZgfXb1/ME/pVih/wDUv/un+VRP4X6M3wv8en/ij/6Uilod8qazc2rSYztKj/gIr1axmiS0SvCdW36dq1teRtgTJuY+hBII/ID9a9B0/VXfTd+/+GueHuwj6I9LHWljay/vS/NkXifxPb23ijT4pW+SOQSSfU5C/wBf0r2HRfFmlf2V5rXCbNu7duH868C1Tw8uuXby/N5rY+77V13hHw1FpPlLdyyyozfdbBxjoaalbY5XFPSWx67pXiTSdW3rpmoQXnzbWWOQNg/hVmWbfvR/4f71UrKG0trr7VFFF5u3b5m3nHpmpryVJvmb5G/hb/Gqu7EWV9C5A6eX/DWPqkqfwVB9slSTZ92kYb/n/wBn5aTndWLjTSdzkfD8SyfEvVi6qwWz3/MeP+WX59ay/GmrIk8um277tzDzm9uoWqGpatd6L4x1KazZRI8YjLMOgIQ/zArn5Wd5Hd33OzFmZu5NThlZP1Z25zUtUppf8+4f+klc0xqlNRsK6jxCIiozUpqLNMCGQ1A1TyVA1ICEijFPIplAHR5pM0gopiJAacKjWn0APzRSUtAxaWT/AFL/AO6aQUP/AKp/901M/hfo/wAjfC/x6f8Aij/6Ujn/ABJBv0uyuP8AnnIyN/wI5H6r+taXhuV7nRnT+Nfl/HFWJLRL/SXtHO3zFO1vQg5B/MCsjwlevZXz2svyvu2sreo4I/OsIq9GPojsxztj63+KX5s0tH1zU4bp7d9Mkll3bfvKg/HJ4rvY9X1aaCLf4cnV4/usssZB75+9/OsK98O/2nPFe2MrRXG3a23+P06dD9Kux6J4jT/VX06/L/C4P8wTSt5ERcbanX2mr6w8fz6Iy7v4VnTP5ZIqneanrFlqUX2u322kn3WWUSbD6MOOfpmptBsdTT/j+uG/2t2f07CtrVzFdRpFs+RabV0KU0noiay/02NH/wA4p87InyJWZaXHkx7N/wAi1Be33/fbfKtKKE5aHnHiUqfFF4e3yf8AoK1lsa2dVTzvFV9Gcblwnz+qhQc/kazrm3/efunX+9t7/h61WH2l6v8AM3zh3q0v+vdP/wBJKZNMY09hUbVueURsahapTUT0wIHqFqlao2pAR5pN1KwplAHRZozUYNOzTAeDTxUYpwNAD806o802SeKH55XVaQFgUP8A6p/901i3PiK3h+5+9esm48R3kkisiBYgQSo6kemamSvFpGuHkoVoSlsmn9zR1QvLe0tVaaVU69T71zOqahaTakl1Yu3m/wDLT5cA46H644/AVXk1y3kfdJpkTv6swJ/9BpBq9pjd/ZUH6f8AxNc9OVSMVHkenmj2cVh8FWxE66xKSk2/hn1d+x3/AIc8Sp5CfP8Adr0G11uJ40rwWLWrdBuSxjj+jAf0rRt/ENwBiNZU9llIqeapHaH4oSwmCe+Jj/4DP/I97/taJ9mzbVG91WL++u+vLLK61S6HFxOi/wDXY1r2+jX90wD30q7u5JP9an2tR/Z/FFrA4Rf8xK/8Bn/kdJJrm+TyrdPNf+7XQaZYmysLjXNS+aK3jLKvZ2HRR7Zxn16VjaL8M9Su4fPGuzWkZ+6ViJJ+mHHHvWT4s07UNGuE0mXxPfX8e0M8blwq/wB35S5z/TitYyqbuD+9GM8Lg3osVH/wGf8Akc8JJJNWupSGaSRdx9SSQSf61JeP/qnT5X+98ynJPQfTvUNvbMshllmByBnPJIGD/SiabZvZ933vl6n9K0oRkovmVrtswzWrSqVo+xlzKMIxvZrVKz31HXWxJIpX+XzF3N3UkdeKzrjyvMTynVtzfhWgCnkI77ti53L7Yx/OsqSOJJItibnb+9x39P0rY8wJYXh++n+H51XetSEIkHyP/s+WzfyB6VnSf6/yvKb7v8PP6CgCs1QNVye32Ro+/du/h28iq7QS+X5vlNs/3aQELCmYqSm0Aa4pwqPNANAEoNK0yJHvd6o3d35MexPvtWBPO7yfO+6gDVvdc/gt/wDvqsd5ZbmT53Znp2xKkOxN9AFJ1qIq9WYjvj+f+9/nio3V/wC5TGVcVPbL+/RH+43y0qxfPV4afcPH9oiTd5bUCJF0WV/+Pd/+At/Q1asrO4hn8qWJldW+62RW5p0KP8jpXRQz2+mWj3F8iz28Me5Vk5PsAfc8DtUtX0KjLl1F0S0ebyotjb2/hXufYV6xoHg8QbLi9X5/+efp/vev0rjPhb4p069197K70+Gzu50zaMrlwSASyc9DgZHqAR2GfYZ7hIEojS5XruN1+ZabFTVtQh0bSbi7l+5DHurwHU9Qu5r6XUrt/Ndss3Q4z0b6D+X0rs/iLrdxeSW+mo7LEzeYyr3C+vtXBSlHk2Pt/wBnb2z1xn6ntjmqZCEaSJ/ni/hUfKrdR2OD0/8ArVnid5t/yMv93pkenH/1+9RRfJI/lP8Aeb5v3nQLwMHHTr+dW0VPP8qJ/u/L97B6dT+PFIZGbt3ke337fMX+7g59Dn3rLmkSGfyv4F/1ndgeuD+PNTXguP7ST+4q/d3ehx079R+dVtQnR43d/vs33dvUD/I5+tAF21uH+5s8ry13eoIHNTwq91vRH3bV3N2znGMHjjmqNqn30d925fm6DHfsfT9QK14VS137PKZJFLfNx7AEHHGKEBThOyN0T5ped0nOMj0J/CrJhRIE37ldWHzbvUfd696tFYppIkRFVF/efN3+X+ff/wDXVeztv7Q1J7jZ+6WT5fTOOvPXI6cUxDJtG+1fvflX5R9fqR0qj/YNx/z2i/X/AArr3RPLS3dFVG+782Djr61H5cv9+gDkqbmkJprn929IDIvHeaeWVP4fl/Ks8Dfs/wBpqtLL/on3PvZpllG806f9M/8AJpgWvI/do/8AAv8AF60/H7h/n+Rvm/KpWd4Y33/N/d+aoY/nk3p/3zSGZYhdJ97p8jN+dWnV3j30t2f36f5xmp1GyP5/4vut/wDWoApwo/n/ACfw13VlYpD4XluH/wCW0gXb9Mf5/CuV01Eed3fd838PTpzz6V0dzqKJ4Qt0f5f9Ik/hzgK2B+tAjp7fQJX023uET/WRj+eP54/OuV8aO8Mdrau/+sk3N/ugZ/mR+XtXcad42t/+EJidNPuW+zwnzLhlVIhjI4OcntgAdRXk11qdxqerfbbh9srN5n7tiNhB+UL3GD0rSMbsiTsje0bSNe1DZqWiWk8r2UitHJGuf3ikFRn64r6GHiCxfw/FrVw+3dHukjkXDRvjlGHUMDxj/wCtXOfBe1S28DPdb/8Aj6u5ZNu77m3EeP8Ax3P41l/Ehbe2k/tJ0/0j/VwruwNzZAYjoSoJ5PTFVN+82RTVopHK32t3Gu30uqvFt3fLDH3ROSM8+wye2fasuU75E+RdjL8u1sngDOSeeaYZP9E2RffX7rNn6YJHp/UVXg2XXz/e242/N9zjjn09Px+lZGxLBav5+xNqvIvy/Lnjgfnn6VTU7LtNm1dreXIyqTgn0ORgfyNaRi8nzX3tsj/utjn0x+Q4/nWX5cXmJb72Z2/1nzAHkZBJ4/z+VICTy/ts6Ojqtuv3mXJ39z06DP8AKsm9jfz9n3fm/unHGSRjtxn61p7kfZLs8p/4trYyc8Zz36jHvVQH7TfJK8u5ONvoScAf598UDL9nYfuLd3+X+Jtuc8c845I7Y9xU95vmjuHl+V44/l3Z525Pp8wwRgehq7YQb4/Nl+5tO1ejfLjjj2HQjsO/WnrciWto8W/52/d7eUI56A/l+tMRFK8U0lvF8rbYwrbY95AI5HqM47++cHIO5bWf2KRNiMz7ht2/hnpwefyBrE0m3lhfzXf/AEhvveWoOA2NpJPTgDjuMjrxW5Defv0RNreW33VwdgPBJHXHykD60AXjPbvJ8ibuv8WOnUKT6c1U/tW0/v8A/jp/xqOZt8mx03eSx27fflSD1GB9e9H2N/8Apv8A+O/4UxHJ5rN1a9e2g2J9+Sr+a5/WC7yO/wDzz+WpGOsJ99pLE/y7Vqxo8TvH8j/Ozfd7VQtpU8iWX+Pb8y1qaSv7hH2Ns/2fX1psZJqT7LR0dPusNrL6jvViKJEg837r/wCf5/0pNQKPpMqP821Ttb/Gi0DvaI6bdm35m3fTsffNSBmyK7z/AO638qtmLfBv+bfx/n2qIxu/33/i+90PFWYj+72I+7b823dnnHXNAEunQ+dG6Pt37fzPfHv7V2ngfw4ms+EJZZfueZKy7vTcT/OuOSXyYLuV/v7Syt7gcfWvU/h/Ilt8O4n/AOmbN/Mn9cVSEzzzxFefYvClrocT/I11Izf7qsSP1I/KuXhb93s3/JuDMvuM4P6n860PEl39t1ZET7kMY/76Y5P8x+VZ8Y/21Xcx+ZumevYcVtT7mNTax6/8F9ffyNV0OWXbtX7XDu7fwsB/44fzrL8baz/bPiCW1SX91ZN+8bdx5hA+X3wAB9Sa8+0zxDceH7t7202/aGhaNd3bcuM/gcH8K0NFtntrSK63/OzbpNzDk4JwM9WP+Priomy4I07gu8G9Lja642r6jJIOPwHbsKtQxp5fmvLt3fwqxGw8nPGff/PNRJJs37/NlTbu2qp9OpyR2HT3p8kUXlo8XyuvzfNnoOc8d/b3rM0Ew7yPvfcisfmb7wOOvXkdRgis6Zv9OS42bt2P4sZ24zt5+vHvV27P7hNjrE7SBmWRs/Xjr6VHHDF5DyujMm4qse7B6ZHbr/jTESeVb+W9vb/K/LN8vCA85zz3zjiqFhapNd/Pu+Vtyruzzz970z6+4/GRw6R74v3sq4ZvmIAwM4zzVqCJ0jR7h1VI13fuV+pOB+A/FfagDTuZUstNe4i+XdHu2yKd2MqG4A4yB39s54NYN4yatdvFv+SNhtXaSSTgcDPPT1x64q/rJe2jS4+68altu7ghtpOAOMEkc+/tWfosO+P7Q6ea8zFtqxnnB6fQ5Axkf1oA1bTT5Ydj/e86T958wdgAOucjqB0GCe4rRS3SH/lrFs/h8njJPqccHrz9eKzJ9T2SW9vsZvlEbNuGMnoOB16jnrxnBq+ro8kXm7mlVivlqxIJPTJz1H6Y6mmBJ9pimtInT5nb+JWIJAb1H8/esz5P+f6+/wC/p/wqzCrvO72+1UabaysuxeMgrj9cf5L99p/z6Rf99CkByZrLeNHnuLd/4vmVvTNaEkmyN3esm2uftupO/wB35dq0gMu4he2keL/JrqtJLwwJ8/yNH/KsDUT/AKpH/h/i71tWkmyCLZ8391tx4454oGaOoJvsbh9/yLHt29un69qy7WV001HTbsk+X72MkD/CtKdtmmo7ysrtldv9/wBeB2xis7Sdj2MW913q21f17H60AS4/j3qzqo+b69OOhpDDs2P8uzaVbb1BPHHrTJPKmk2Jt3/3v61Hnyfm3sqM3yrtxgkDk0AO1e4dLTyvuvuCt8uOM5H8jXqujTJa/Cy33/xW4/UZNeO65IjxxbHZn/vNXU/8JGlz8O/ssT/vbdRFJH6Z+XP0IOfz9KaEzkvN86R5f7zGT3596eW/d/Pt+Zd3ysD68H0PtTE/1f8Aur830yB/UVWnm3/cq72RFrsWJftV9FF/eau1jhSGTZvVvlG3cqg/eIyTn0/lXL6FF+/e42btvyr1xkkcnFdZNP8Acd5fvfd2rv3jnIPX+fes2aCpOnmRRb2+VQrfTjHbr1GDT13vG6eVK1u0h+XbyNoHAwcjv+PaqMe/zEfzd23O7pj+HPJOe/Q+9WDe3CQeUiMr8Lu3dB1PJ46/zoAcyxXUD73VfL+X5ffGM/hxn61He75pLRE+4rbW29HPTOMdew7Zx61O8USbES3+faGZu2AAAFOfYc+xpi/6u4dIv3u7asnI5PT9c/j6Z5BFqEfu0SK0Vbfb92RgM+oHXIIP5fjUmlwJNvlfb5v3vlXPTHA7gjnHbI9etaBt+9JXbZxtbdgfeB/rx7GraDZJE+/buU7mjb/WEHjj+9ntzyOODTAp+L5neO3t02ru/h45GBz+nT1NZ1jI829E+/tXc20gBcnPPpjJx6bvqJ/Fs0UM9lLd7WdY5V2quQTlep/769/rVCzu0mkTY6xIy/L8vOBwQSP8Pfg80MEdSlq/3Pm3xt+8VmwRge/sSOvcHnHEkczw74nTzX/1bNxzyCDx6Z+ueeQaoIz3M6IiN90q21SMggYDA9Dnn0z9ebdvdRW3lea7NcSMFXbxwB8obvkHn25oAt2sT/a97/KkOd21TySue49+1VfJ/wCm0H/fs1bkmlmjd3RVTd+7ZW6nKknHJ9c/hxVfD/31/T/CgDz3WLjZB5SfxferHtpPst2jv93+Kr1/E80by/54qraNE8flS/f/AIaAHai++dH/AIK1rBt+zZ/D/L/JrL1UfvEqxZT7Pk37f93qaXQZt70SDZv3S8qu3suef04qlpn+reLZuTzCv0HWrSSO8CJvX5W3emQQBVawnRL67+T7zfoaAHrFvn2b1VP9rr0yB70L/rPKlT7vzNtzj1J9u9OkklmkSV/l/wCAjnsc/rSQR26SSom7f977v4cH8vzoAxdWl3zomzbtWqaNsqXUj/p0qf3fl/KoFpgWGnd6iJptPgi86dIv7zfp3/SmB1GhRpDYv5qbXk+63TH4/j+lajyRPA/m/MjSH7zAdsEdieen0/N9i0SQbPKVpVX5W28YyfWo33233E+dsqu5c+uAOMcA44qQIogkMaPv+8xVl2/iRn6fr6VLaRP9r835tnC/Muc43EEAfQ1URJZp/NRGVI2+bc3A6ev+9j61s2Db5Pnibe0e7cu5FCg9s55xg49PWgBv2n9x9n3t97du7Z4zkduDn6D2quN/zoj7t2W/3D0xjPHOB+Rou4ESPzU2q/8AF26Y6569cfjVXTLlPMfftWVm2qzdO3fkkYyPp+FAGtDFsjR0Rdm36gYzyPzzj39qtW97b+Z8kW77vzbW4JwOSOn1565qpGrwxom+Le25e3OOQxB75+vOfUVdgH79E2feYxsrN3wece3P4cimI53xkm+Cy2fK32hl2yf7XOfoAozUeneVp8ETvtluFzJ94AehGD7Z6+/Bo8Ryo99b2rvtRcs3bHA6fmfzqGxs7SaTfLcK21dsbbgN/P07ZH6e5ABsWM8v72VJVlSRhJt5wNwAGeeMDsB+YrQj+e03vt83nzI+d249cHHOeo9x+FMtjEkcXlJF5qt8y89MYGAOn9D9RUkkkXyPE/zsp3KvHzDvyMg9/rxQBJaSReXv+z7v4l2sckcH8ec+4NL50P8Az7z/APf8f/FVAk32mDfbptlb7v8AsDnBAGD1P68+tH29/wDn3i/76joGefxO80bxfe/2ay5IXhn/AN1qvaUX+1v+FbF3pHnR70TbLt3ev50XBHPXc/nwI393+GnWa7/uVHd272vyPUmnH/gNAG/Edkfyfw//AKu9UbVk/taXfLtRsfe+lPEGzZ/sruX5uv8A9eorPYmrf7q/d9TnAxSA1ZY/3G90+dm+bp3HY01UT5HTcv8Ae+bnPY/hTz88bvE/yfe9ieOR/OiNfJtHfZ8kmW+p/wA/pQBy18d989QU+Q75H/3qaaYC5q7pULvduyffVTt+p4/ln86zia6fwvD+4ll2L80m1WZsYPagDYEqeR5TpuSNv4uN/AOfbpS/aHSRPKTc7NtVmwcgj/E/oasXNtF89u/kM7Y+Vc5PUfnziqJ/4l+x9i72Y7Y+/BHp+NICxNKkMcVuj/JxJJ1J5/xGR9PatCG58nZ/D09RkDoVPQ4x/nrWNEInj37238bvr83zD6ZJ5+lbEE/7t/3X3Yy3zd+MD6cH9aAIrxYvsku9Nrx/xN/HnoRnrzkHuOfTnL06JEjfZ838W3rjA7Z4+8Kvy332nSdlxF5X7sMrL/AQMH34PHOOlVdLtok3yvLu+b5VVcHvt4zx7H2oA15pPuO/71GkG7b1GOn4fX26VLFL/pfmxIzRK33VUjndjn6cfr9KrpHbpI8X71kVd27sOMZOOvGDn+fFXQrp99FWJvl+uM8Hv0z785piOO8RxI+q27Syq0rKfM9B0AX3+vFRhLeyjid03fw/mev9Mn16VJ4nh367FEj/AHV+63H1H14x+VRiC38j+Luv15+uBg9c/wBTSGWbR/tMcWy32pzuZWPIzjjbyD2x6cVrQ2f+tdEXey7m+bJTqOnY+/4EVT01X2b0eLyl+9t/jwMkY6e/Ht+Fq7n3xxeU8q/7ylBzjufx/wATQBqD5LSKKL/Wqvy7eMZA+Ye+M/8A1+8PkP8A8/Fz/wB8t/8AE1atrL9xFL+93/eX+8c+gJ4A55zUvmf9O8X/AH6X/CmB5bpTPDfJ/cb71dVfGZI/NT/gS/y/l+lcolz5M6On31b+Va8V/Feyf61YpV/ibgH2oYFPUJt6Sq6K3Tb7ZFZEDVpX8Fx5H99Pvbl/zzWRE+yhAdDBJ+7/ANjaaqWb/wDEydf7y7d27/PNLbSv5aVBav5OsxP/ALR/kfSkB1QGyBJU3b2/veuPbgd/bg1Vu5tmmyyvF8m3aqr0yeOverSSfv8AY+6KLhvvdSRyCAMY6fkKx/EEvkolv/Czbvw96AMCm06m5qgENdZpcLw2ioifPt3btvc+54B+X6iuWiXfOqf7VdxY2/8AoO9HXZz827GCB1HqPb6dKTAmZ0eSW4fdEjL93jjGSQcn8vw/HKN9/ad39odFiRVG1dvqOST2PT8hWlEn9ofP5XyK235uC+RkkY5ztPT1yOO1KGP/AInMqJuiRVEm3kY4Gc5z3I/pmkBctrJ/ufM22P5fl5Oeo+uQf8nnVtViSdEd9yMoWT0wBwMenHTrj6VUgdPn2O3mqv3W9SD0J68cc+gP1lg2TTuiPtdfuqy/fyQSfrz+p46UCIb+wdIE+dmeOQqytjBzkjnknknHPaqdiUSR03xNtx91ux/DtzW5eBHjSL5V+X956yYGMg+39PoawJbPfdy7Jd3mL93ncfU5+n+emQZqwx7Pn81tjLtXanYkE9f/AK/btV2Tf5ez+6w2s3XIORz1/wA+mKzNP3pAlx5u75h8rdMZ7enrWkSjyfI+373ysoHI6A++cY+tAHFa8XudauPk3bV2t+ZPJ78UthavN88vzIrfvGZc/n+lSXg+2+ILiKL+HG6TdjgAA/n0qS2uLT7n3tufL+XkrtI5z3Hp7fjTA6C32PIlqifw7fvbOmSCMfp+XH3TatoXefZL/wA8/l+Y4J45J745+mTVSxlt5oPkTdtU+Wy9RnAx7jAPORkcdRzoWolSPytkXyr+7XceB0HsRxx+tIB91Ok0HzuyvHGNu1RwfYHrjAOO4/Mt+3t/fi/8Cf8A7KmXDbI9kqfI3y7l57dvT0+v1rH8y0/v6V/3/SgDljY2/wAm+Vv++f8A69K+nW/ybLj7zf3f/r80xP8AVvQ3y7McfLTAurZxW33LhpUb7vbnFYF4my6da1oZHzt3HG3pWfqf+vpALav8n+1TBI/26J/49w/nSRVFN/rKYHcBtkCP8yp5Z/I9OnQj/CuR1G5+1Xbvv3fwr+Fb80sn9ij52+dTu568VytCABQaKaaYFmxCPP8AP9yu8tbR/ktX+XbGW+oz8ozj6nn/AAzxWhqJNXhjcbkdvmB716TZRoJz8o7D6j5f8aTAHZPki2bnjz8rcDpg455/Prg1yE+9L53dNvzbtu0AHnP5dvzrauZZBJczbz5iKNrHqPmK/wAuKpzqJImkcZkLN8x69R/hSAfCX8hJZUb5sMu3nB6DHTP8NaLKnn/aE2/Mp2/Nz9Cc+x69CPpVCw/1dyn8IY4Xt2/xNTRyO2zLE/Kv6sf8BQI0YpNk6I+5kbC7mUkg9+fr0PuKgu4U8vem3ymb5emcdOo4HIz/AIUl9LJsh+dvunv7US/eSP8Ag2tx+FAx1uyJ99G/vLu65JznvgBiQf8AIpZ5/wDQf4l+bbt6cDHGOx/wz3pbeKNpZFKAhV4Hphj0/M1T1Vj9huOfT+X/ANc/maAOc04vNfXHztvb+Lbnvjp+Na9z4ft4fn83yvl/1jN/EPYdzj15zkVy1nPJDNujcqdp5H41ure3Es1vG8m5PMHBA9CP6D8hTAuW8Mtr8/lNsb94vzDBA9PTPv0x0rRsr3yZIvtHlROrFm+bIIJ4PH3jgYx3z9DVeynlaNP3jD94q/LxxuTjj61rJbxfag2zlWwDnsWFIBpnTzIk/wBb5jfd2nBGTyDn6j16GofIi/6Bk/8A36P+NbMtvFFeRKibRtUYB7bWrH86X/nq/wD30aAP/9k='}\n",
      "0.2956821918487549\n"
     ]
    }
   ],
   "source": [
    "import json\n",
    "_time = time.time()\n",
    "with open(\"./alan_turing.jpeg\", \"rb\") as img_file:\n",
    "    body = {\n",
    "        'image': base64.b64encode(img_file.read()).decode('utf-8'),\n",
    "        'type': 'jpeg'\n",
    "    }\n",
    "with open('./test_data.json', 'w') as f:\n",
    "    json.dump(body, f)\n",
    "\n",
    "with open('./test_data.json', 'r') as f:\n",
    "    request_body = json.load(f)\n",
    "    response = predict_masked_faces(request_body)\n",
    "    print(response)\n",
    "#Image.open(BytesIO(base64.b64decode(response['image']))).show()\n",
    "print(time.time() - _time)"
   ]
  },
  {
   "cell_type": "code",
   "execution_count": null,
   "metadata": {},
   "outputs": [],
   "source": []
  },
  {
   "cell_type": "code",
   "execution_count": null,
   "metadata": {},
   "outputs": [],
   "source": []
  }
 ],
 "metadata": {
  "kernelspec": {
   "display_name": "model-zoo",
   "language": "python",
   "name": "model-zoo"
  },
  "language_info": {
   "codemirror_mode": {
    "name": "ipython",
    "version": 3
   },
   "file_extension": ".py",
   "mimetype": "text/x-python",
   "name": "python",
   "nbconvert_exporter": "python",
   "pygments_lexer": "ipython3",
   "version": "3.7.6"
  }
 },
 "nbformat": 4,
 "nbformat_minor": 4
}
